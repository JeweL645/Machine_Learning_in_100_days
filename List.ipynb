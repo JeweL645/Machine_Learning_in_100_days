{
 "cells": [
  {
   "cell_type": "markdown",
   "metadata": {},
   "source": [
    "# Data Structures \n",
    "## There are four in-built data structures in Python"
   ]
  },
  {
   "cell_type": "markdown",
   "metadata": {},
   "source": [
    "## - List\n",
    "## - Dictionary\n",
    "## - Tuple\n",
    "## - Set"
   ]
  },
  {
   "cell_type": "code",
   "execution_count": 37,
   "metadata": {},
   "outputs": [
    {
     "name": "stdout",
     "output_type": "stream",
     "text": [
      "True\n",
      "False\n",
      "True\n",
      "True\n",
      "True\n",
      "False\n",
      "False\n",
      "BISCUIT\n",
      "don't know why endswith function is not working!\n"
     ]
    }
   ],
   "source": [
    "# Before we get involve with these data structures let's see some in built function that returns Boolean values\n",
    "# Boolean values are two constant objects False and True\n",
    "# They are used to represent truth values (otherwise false values)\n",
    "# In arithmatic operator when used as the argument they behave like 0 and 1\n",
    "# To cast any value to Boolean there is an in built function called bool() if the value can be interpreted\n",
    "\n",
    "name = 'Elias Islam'\n",
    "age = '22'\n",
    "user_name = 'elias645'\n",
    "my_pet = 'BISCUIT'\n",
    "my_hobby = 'painting'\n",
    "# Here is some variables, we gonna use it with some in built function\n",
    "\n",
    "print(name.istitle()) # it will return true as the name variable is strating with capital letter\n",
    "print(user_name.isalpha()) # it will return true as the variable is a combination of alphabetic and numeric \n",
    "print(age.isalnum()) # it will return true as all the values are numbers\n",
    "print(my_pet.isupper()) # this functon checks for all the characters are in uppercase or not\n",
    "print(my_hobby.islower()) # this is going to check whether all characters are in lowercase from\n",
    "print(age.isspace()) # this will return false as it's valuse is not space\n",
    "print(my_pet.startswith('b'))                     # it should be false right cause it is not starting with g\n",
    "#print(my_pet.endsdwith('T'))                    # this is gonna return true but remember it is case sensitive \n",
    "print(my_pet)\n",
    "print(\"don't know why endswith function is not working!\")\n",
    "\n",
    "# I don't know why the last lines that checks whether the specific string endswith in built function is not working may be my bad\n"
   ]
  },
  {
   "cell_type": "code",
   "execution_count": 27,
   "metadata": {},
   "outputs": [
    {
     "data": {
      "text/plain": [
       "False"
      ]
     },
     "execution_count": 27,
     "metadata": {},
     "output_type": "execute_result"
    }
   ],
   "source": [
    "# let's work with some boolean and logical operators\n",
    "True and False # surely false cause we know the combination for and operator is gonna True if both True\n"
   ]
  },
  {
   "cell_type": "code",
   "execution_count": 13,
   "metadata": {},
   "outputs": [
    {
     "data": {
      "text/plain": [
       "False"
      ]
     },
     "execution_count": 13,
     "metadata": {},
     "output_type": "execute_result"
    }
   ],
   "source": [
    "False and False # told that it is gonna false at it is not true both"
   ]
  },
  {
   "cell_type": "code",
   "execution_count": 15,
   "metadata": {},
   "outputs": [
    {
     "data": {
      "text/plain": [
       "True"
      ]
     },
     "execution_count": 15,
     "metadata": {},
     "output_type": "execute_result"
    }
   ],
   "source": [
    "True and True # yeah Hell True"
   ]
  },
  {
   "cell_type": "code",
   "execution_count": 16,
   "metadata": {},
   "outputs": [
    {
     "data": {
      "text/plain": [
       "True"
      ]
     },
     "execution_count": 16,
     "metadata": {},
     "output_type": "execute_result"
    }
   ],
   "source": [
    "True or False # or will return True unless both the values are not False"
   ]
  },
  {
   "cell_type": "code",
   "execution_count": 17,
   "metadata": {},
   "outputs": [
    {
     "data": {
      "text/plain": [
       "False"
      ]
     },
     "execution_count": 17,
     "metadata": {},
     "output_type": "execute_result"
    }
   ],
   "source": [
    "False or False # surely False\n",
    "\n",
    "# this was some boolean values example through the in built function let us see List now"
   ]
  },
  {
   "cell_type": "markdown",
   "metadata": {},
   "source": [
    "# List\n",
    "## -List is mutable data structures in python\n",
    "## -The value of an element in the list can be changed\n",
    "## -List are enclosed with the square brackets and can be accessed with indexing which starts with 0\n",
    "## Most used data structure in Python"
   ]
  },
  {
   "cell_type": "code",
   "execution_count": 48,
   "metadata": {},
   "outputs": [
    {
     "name": "stdout",
     "output_type": "stream",
     "text": [
      "[]\n",
      "['elias', 'jewel']\n",
      "['elias', 'islam', 'jewel']\n",
      "['elias', 'islam', 'jewel', 'loves', 'faria']\n"
     ]
    }
   ],
   "source": [
    "LiSt = list()                                                           # we can declare a list like this\n",
    "type(LiSt)                                                              # if you run this it will return list as the name of the type\n",
    "\n",
    "list1 = [1, \"Two\", 'three', 4.4, 5555, ['six','seven'], [], '9', True]  # indexing and advance indexing\n",
    "list2 = [3,4,7,6,9,0,1,5,8,2]                                           # reverse and sort and sum and min and max and len\n",
    "list3 = ['d',400,6.66,['hard','work'], 'yes', True]                     # delete                            \n",
    "\n",
    "\n",
    "\n",
    "print(LiSt)                                                             # this will print an empty list as there is no element in the list\n",
    "\n",
    "# why not add some element to the list?\n",
    "\n",
    "LiSt.append('elias')                                                    # append() adds an element at the end \n",
    "\n",
    "LiSt.append('jewel')\n",
    "print(LiSt)\n",
    "\n",
    "LiSt.insert(1, 'islam')    \n",
    "print(LiSt)                                                             # by the way this is my full name\n",
    "\n",
    "LiSt.extend(['loves', 'faria'])\n",
    "print(LiSt)                                                             # faria is love of my life\n"
   ]
  },
  {
   "cell_type": "code",
   "execution_count": 58,
   "metadata": {},
   "outputs": [
    {
     "name": "stdout",
     "output_type": "stream",
     "text": [
      "[1, 'Two', 'three', 4.4, 5555, ['six', 'seven'], [], '9', True]\n",
      "1\n",
      "Two\n",
      "three\n",
      "4.4\n",
      "5555\n",
      "['six', 'seven']\n",
      "[]\n",
      "9\n",
      "True\n",
      "Some Advance indexing\n",
      "six\n",
      "seven\n",
      "\n",
      "[1, 'Two', 'three', 4.4, 5555, ['six', 'seven'], [], '9', True]\n",
      "\n",
      "[1, 'Two', 'three', 4.4]\n",
      "[5555, ['six', 'seven'], [], '9', True]\n",
      "\n",
      "[1, 'Two', 'three', 4.4, 5555, ['six', 'seven'], [], '9', True]\n"
     ]
    }
   ],
   "source": [
    "print(list1)           # this is simple indexing \n",
    "print(list1[0])\n",
    "print(list1[1])\n",
    "print(list1[2])\n",
    "print(list1[3])\n",
    "print(list1[4])\n",
    "print(list1[5])\n",
    "print(list1[6])\n",
    "print(list1[7])\n",
    "print(list1[8])\n",
    "\n",
    "\n",
    "print(\"Some Advance indexing\")\n",
    "print(list1[5][0])     # example of some advance indexing\n",
    "print(list1[5][1])\n",
    "\n",
    "print()\n",
    "list1_1 = list1[:]     # we can copy a list through slicing and it is very helpfull\n",
    "print(list1_1)         # this is how we can copy a list\n",
    "\n",
    "print()\n",
    "list_2 = list1[:4]\n",
    "list_3 = list1[4:]\n",
    "\n",
    "print(list_2)\n",
    "print(list_3)\n",
    "\n",
    "print()\n",
    "list_2.extend(list_3)      # by using extend method we can actually join a list too\n",
    "print(list_2)\n"
   ]
  },
  {
   "cell_type": "code",
   "execution_count": 68,
   "metadata": {},
   "outputs": [
    {
     "name": "stdout",
     "output_type": "stream",
     "text": [
      "10\n",
      "0\n",
      "9\n",
      "45\n",
      "[0, 1, 2, 3, 4, 5, 6, 7, 8, 9]\n",
      "[9, 8, 7, 6, 5, 4, 3, 2, 1, 0]\n"
     ]
    }
   ],
   "source": [
    "\n",
    "print(len(list2))      # to find the length of a list\n",
    "\n",
    "print(min(list2))      # to find the minimum value of an element\n",
    "\n",
    "print(max(list2))      # to find the maximum value of an element\n",
    "\n",
    "print(sum(list2))      # this is the function that actually returns the summation of all the elements in a list\n",
    "\n",
    "list2.sort()           # this sort() function sort the all elements into a ascending order\n",
    "print(list2)\n",
    "\n",
    "list2.reverse()        # now we can simly reverse the list to get the descending order\n",
    "print(list2)\n",
    "\n",
    "\n"
   ]
  },
  {
   "cell_type": "code",
   "execution_count": 80,
   "metadata": {},
   "outputs": [
    {
     "name": "stdout",
     "output_type": "stream",
     "text": [
      "[]\n"
     ]
    },
    {
     "ename": "IndexError",
     "evalue": "pop from empty list",
     "output_type": "error",
     "traceback": [
      "\u001b[1;31m---------------------------------------------------------------------------\u001b[0m",
      "\u001b[1;31mIndexError\u001b[0m                                Traceback (most recent call last)",
      "\u001b[1;32m<ipython-input-80-d2b9bdda5830>\u001b[0m in \u001b[0;36m<module>\u001b[1;34m\u001b[0m\n\u001b[0;32m      2\u001b[0m \u001b[0mprint\u001b[0m\u001b[1;33m(\u001b[0m\u001b[0mlist3\u001b[0m\u001b[1;33m)\u001b[0m\u001b[1;33m\u001b[0m\u001b[1;33m\u001b[0m\u001b[0m\n\u001b[0;32m      3\u001b[0m \u001b[1;33m\u001b[0m\u001b[0m\n\u001b[1;32m----> 4\u001b[1;33m \u001b[0mpopped_item\u001b[0m \u001b[1;33m=\u001b[0m \u001b[0mlist3\u001b[0m\u001b[1;33m.\u001b[0m\u001b[0mpop\u001b[0m\u001b[1;33m(\u001b[0m\u001b[1;33m)\u001b[0m\u001b[1;33m\u001b[0m\u001b[1;33m\u001b[0m\u001b[0m\n\u001b[0m\u001b[0;32m      5\u001b[0m \u001b[0mprint\u001b[0m\u001b[1;33m(\u001b[0m\u001b[0mpopped_item\u001b[0m\u001b[1;33m)\u001b[0m\u001b[1;33m\u001b[0m\u001b[1;33m\u001b[0m\u001b[0m\n\u001b[0;32m      6\u001b[0m \u001b[1;33m\u001b[0m\u001b[0m\n",
      "\u001b[1;31mIndexError\u001b[0m: pop from empty list"
     ]
    }
   ],
   "source": [
    "                   \n",
    "print(list3)\n",
    "\n",
    "popped_item = list3.pop() #we can use pop() to delete the very last element\n",
    "print(popped_item)\n",
    "\n",
    "p_item = list3.pop(1)     # we also this function to remove by index\n",
    "print(p_item)\n",
    "\n",
    "list3.remove('d')          # remove() function simply remove whenever it is called by the value \n"
   ]
  }
 ],
 "metadata": {
  "kernelspec": {
   "display_name": "Python 3",
   "language": "python",
   "name": "python3"
  },
  "language_info": {
   "codemirror_mode": {
    "name": "ipython",
    "version": 3
   },
   "file_extension": ".py",
   "mimetype": "text/x-python",
   "name": "python",
   "nbconvert_exporter": "python",
   "pygments_lexer": "ipython3",
   "version": "3.7.6"
  }
 },
 "nbformat": 4,
 "nbformat_minor": 4
}
